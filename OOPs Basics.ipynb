{
 "cells": [
  {
   "cell_type": "markdown",
   "id": "157b34ab-0761-45e9-b75b-4a4238ccd847",
   "metadata": {},
   "source": [
    "### Ans 1"
   ]
  },
  {
   "cell_type": "code",
   "execution_count": 1,
   "id": "73d37265-d17a-416a-b2d6-5a0e18f2c0ef",
   "metadata": {},
   "outputs": [
    {
     "ename": "SyntaxError",
     "evalue": "invalid syntax (798076838.py, line 1)",
     "output_type": "error",
     "traceback": [
      "\u001b[0;36m  Cell \u001b[0;32mIn[1], line 1\u001b[0;36m\u001b[0m\n\u001b[0;31m    Class is a blueprint. Object is an instance of class.\u001b[0m\n\u001b[0m               ^\u001b[0m\n\u001b[0;31mSyntaxError\u001b[0m\u001b[0;31m:\u001b[0m invalid syntax\n"
     ]
    }
   ],
   "source": [
    "Class is a blueprint. Object is an instance of class."
   ]
  },
  {
   "cell_type": "code",
   "execution_count": 10,
   "id": "65f01ce4-5bd7-4c0e-9148-c18938e7ee38",
   "metadata": {},
   "outputs": [],
   "source": [
    "class ans:\n",
    "    \n",
    "    def __init__(self,phone_number,email_id,student_id):\n",
    "        \n",
    "        self.phone_number = phone_number\n",
    "        self.email_id = email_id\n",
    "        self.student_id = student_id\n",
    "        \n",
    "    def return_student_details(self):\n",
    "        return self.phone_number,self.email_id,self.student_id"
   ]
  },
  {
   "cell_type": "code",
   "execution_count": 11,
   "id": "f47d521e-ca9b-4081-b00c-e8cc083233f7",
   "metadata": {},
   "outputs": [],
   "source": [
    "rohan = ans(8684858283 , \"rohan@gmail.com\" , 101)"
   ]
  },
  {
   "cell_type": "code",
   "execution_count": 12,
   "id": "a19f6459-0b5a-4ddc-b301-3d15cf1df3e6",
   "metadata": {},
   "outputs": [
    {
     "data": {
      "text/plain": [
       "(8684858283, 'rohan@gmail.com', 101)"
      ]
     },
     "execution_count": 12,
     "metadata": {},
     "output_type": "execute_result"
    }
   ],
   "source": [
    "rohan.return_student_details()"
   ]
  },
  {
   "cell_type": "markdown",
   "id": "2e726c2e-25bf-4f03-ac3e-33c01a153d39",
   "metadata": {},
   "source": [
    "### Ans 2"
   ]
  },
  {
   "cell_type": "code",
   "execution_count": null,
   "id": "1314e5f5-5042-49d0-962f-54d2e4b170e9",
   "metadata": {},
   "outputs": [],
   "source": [
    "Four pillars oops:\n",
    "    Inheritance\n",
    "    Polymorphism\n",
    "    Abstraction\n",
    "    Encapsulation"
   ]
  },
  {
   "cell_type": "markdown",
   "id": "6c165a6b-ef26-4e23-b255-6c64debdae74",
   "metadata": {},
   "source": [
    "### Ans 3"
   ]
  },
  {
   "cell_type": "code",
   "execution_count": null,
   "id": "00ce9c99-2c5a-4b45-9fdd-2433bd539e24",
   "metadata": {},
   "outputs": [],
   "source": [
    "__init__ is a concept of oops in which when we create a new class but want to inherit the data of an existing class we use __init__."
   ]
  },
  {
   "cell_type": "code",
   "execution_count": 21,
   "id": "d1630039-d39f-4438-aab3-c387e455f199",
   "metadata": {},
   "outputs": [],
   "source": [
    "class bike:\n",
    "    \n",
    "    def __init__(self,price,milege,speed):\n",
    "        \n",
    "        self.price = price\n",
    "        self.milege = milege\n",
    "        self.speed = speed\n",
    "        \n",
    "    def return_bike(self):\n",
    "        return self.price,self.milege,self.speed"
   ]
  },
  {
   "cell_type": "code",
   "execution_count": 22,
   "id": "c7cea2c4-b2f2-4c9f-aba2-ac7f626d04e2",
   "metadata": {},
   "outputs": [],
   "source": [
    "classification = bike(3500000,30,190)"
   ]
  },
  {
   "cell_type": "code",
   "execution_count": 23,
   "id": "d22a548d-581f-42f9-bf92-9c91ecf5963b",
   "metadata": {},
   "outputs": [
    {
     "data": {
      "text/plain": [
       "(3500000, 30, 190)"
      ]
     },
     "execution_count": 23,
     "metadata": {},
     "output_type": "execute_result"
    }
   ],
   "source": [
    "classification.return_bike()"
   ]
  },
  {
   "cell_type": "markdown",
   "id": "313578e2-c4d2-427b-bfd8-dcb3fbc749f4",
   "metadata": {},
   "source": [
    "### Ans 4"
   ]
  },
  {
   "cell_type": "code",
   "execution_count": null,
   "id": "7904020d-6405-4b35-a6da-38f539caece8",
   "metadata": {},
   "outputs": [],
   "source": [
    "\"self\" is a special keyword that refers to the instance of the class being accessed or manipulated. It is commonly used as the first parameter in\n",
    "method definitions within a class, and is automatically passed by the interpreter when the method is called on an object of the class."
   ]
  },
  {
   "cell_type": "markdown",
   "id": "c7afa299-723e-4ddc-8720-87dd9c43a084",
   "metadata": {},
   "source": [
    "### Ans 5"
   ]
  },
  {
   "cell_type": "code",
   "execution_count": null,
   "id": "146fab26-0693-4ee3-a561-9294fdd48c60",
   "metadata": {},
   "outputs": [],
   "source": [
    "Inheritance is a feature of object-oriented programming that allows a new class to be based on an existing class."
   ]
  },
  {
   "cell_type": "code",
   "execution_count": 18,
   "id": "b5885eaf-e208-4cff-83bc-929bb7a3a3eb",
   "metadata": {},
   "outputs": [],
   "source": [
    "# Single Inheritance\n",
    "class car:\n",
    "    \n",
    "    def __init__(self,price):\n",
    "        \n",
    "        self.price = price\n",
    "        \n",
    "    def return_bike(self):\n",
    "        return self.price"
   ]
  },
  {
   "cell_type": "code",
   "execution_count": 19,
   "id": "774f993b-9900-4070-ae02-b0a9aae7cdce",
   "metadata": {},
   "outputs": [],
   "source": [
    "Fortuner = car(5000000)"
   ]
  },
  {
   "cell_type": "code",
   "execution_count": 20,
   "id": "c2797066-c204-413f-8708-4f1e0dcfcb5b",
   "metadata": {},
   "outputs": [
    {
     "data": {
      "text/plain": [
       "5000000"
      ]
     },
     "execution_count": 20,
     "metadata": {},
     "output_type": "execute_result"
    }
   ],
   "source": [
    "Fortuner.return_bike()"
   ]
  },
  {
   "cell_type": "code",
   "execution_count": 28,
   "id": "a3271f2b-927c-47b8-83bc-9ce92000b998",
   "metadata": {},
   "outputs": [],
   "source": [
    "# Multiple Inheritance\n",
    "class details:\n",
    "    \n",
    "    def __init__(self,phone_number,email_id,student_id):\n",
    "        \n",
    "        self.phone_number = phone_number\n",
    "        self.email_id = email_id\n",
    "        self.student_id = student_id\n",
    "        \n",
    "    def return_details(self):\n",
    "        return self.phone_number,self.email_id,self.student_id"
   ]
  },
  {
   "cell_type": "code",
   "execution_count": 29,
   "id": "e28a6dbb-28a1-4671-9749-e589f86c1294",
   "metadata": {},
   "outputs": [],
   "source": [
    "sonam = details(8974833437,\"sonam@gmail.com\",105)"
   ]
  },
  {
   "cell_type": "code",
   "execution_count": 30,
   "id": "62a786c7-883c-4cef-a98b-8df83d5e7f66",
   "metadata": {},
   "outputs": [
    {
     "data": {
      "text/plain": [
       "(8974833437, 'sonam@gmail.com', 105)"
      ]
     },
     "execution_count": 30,
     "metadata": {},
     "output_type": "execute_result"
    }
   ],
   "source": [
    "sonam.return_details()"
   ]
  },
  {
   "cell_type": "code",
   "execution_count": 31,
   "id": "082463fc-f4e8-4e42-b24c-0405651e05c3",
   "metadata": {},
   "outputs": [],
   "source": [
    "# Multilevel Inheritance\n",
    "class Animal:\n",
    "    def _init_(self, name):\n",
    "        self.name = name\n",
    "    \n",
    "    def speak(self):\n",
    "        print(f\"{self.name} is speaking.\")\n",
    "        \n",
    "class Mammal(Animal):\n",
    "    def _init_(self, name, species):\n",
    "        super()._init_(name)\n",
    "        self.species = species\n",
    "        \n",
    "    def nurse(self):\n",
    "        print(f\"{self.name} is nursing its young.\")\n",
    "        \n",
    "class Dog(Mammal):\n",
    "    def _init_(self, name, breed):\n",
    "        super()._init_(name, \"Dog\")\n",
    "        self.breed = breed\n",
    "        \n",
    "    def speak(self):\n",
    "        print(f\"{self.name} is barking.\")"
   ]
  },
  {
   "cell_type": "code",
   "execution_count": null,
   "id": "89abefed-63fd-44e7-92b1-caff353c800c",
   "metadata": {},
   "outputs": [],
   "source": []
  }
 ],
 "metadata": {
  "kernelspec": {
   "display_name": "Python 3 (ipykernel)",
   "language": "python",
   "name": "python3"
  },
  "language_info": {
   "codemirror_mode": {
    "name": "ipython",
    "version": 3
   },
   "file_extension": ".py",
   "mimetype": "text/x-python",
   "name": "python",
   "nbconvert_exporter": "python",
   "pygments_lexer": "ipython3",
   "version": "3.10.8"
  }
 },
 "nbformat": 4,
 "nbformat_minor": 5
}
